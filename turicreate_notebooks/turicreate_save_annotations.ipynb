{
  "nbformat": 4,
  "nbformat_minor": 0,
  "metadata": {
    "colab": {
      "name": "turicreate-save-annotations.ipynb",
      "version": "0.3.2",
      "provenance": [],
      "include_colab_link": true
    },
    "kernelspec": {
      "name": "python3",
      "display_name": "Python 3"
    }
  },
  "cells": [
    {
      "cell_type": "markdown",
      "metadata": {
        "id": "view-in-github",
        "colab_type": "text"
      },
      "source": [
        "<a href=\"https://colab.research.google.com/github/IlinValery/modelTraining-pricetags/blob/master/turicreate_save_annotations.ipynb\" target=\"_parent\"><img src=\"https://colab.research.google.com/assets/colab-badge.svg\" alt=\"Open In Colab\"/></a>"
      ]
    },
    {
      "cell_type": "code",
      "metadata": {
        "id": "s1TZDNR3waiI",
        "colab_type": "code",
        "outputId": "f60d2714-1654-4189-9a5b-25262a8e49ad",
        "colab": {
          "base_uri": "https://localhost:8080/",
          "height": 425
        }
      },
      "source": [
        "!pip install turicreate"
      ],
      "execution_count": 0,
      "outputs": [
        {
          "output_type": "stream",
          "text": [
            "Requirement already satisfied: turicreate in /usr/local/lib/python3.6/dist-packages (5.5)\n",
            "Requirement already satisfied: resampy==0.2.1 in /usr/local/lib/python3.6/dist-packages (from turicreate) (0.2.1)\n",
            "Requirement already satisfied: prettytable==0.7.2 in /usr/local/lib/python3.6/dist-packages (from turicreate) (0.7.2)\n",
            "Requirement already satisfied: pillow>=3.3.0 in /usr/local/lib/python3.6/dist-packages (from turicreate) (4.3.0)\n",
            "Requirement already satisfied: requests>=2.9.1 in /usr/local/lib/python3.6/dist-packages (from turicreate) (2.21.0)\n",
            "Requirement already satisfied: decorator>=4.0.9 in /usr/local/lib/python3.6/dist-packages (from turicreate) (4.4.0)\n",
            "Requirement already satisfied: pandas>=0.19.0 in /usr/local/lib/python3.6/dist-packages (from turicreate) (0.24.2)\n",
            "Requirement already satisfied: six>=1.10.0 in /usr/local/lib/python3.6/dist-packages (from turicreate) (1.12.0)\n",
            "Requirement already satisfied: numpy in /usr/local/lib/python3.6/dist-packages (from turicreate) (1.16.3)\n",
            "Requirement already satisfied: scipy>=0.14.0 in /usr/local/lib/python3.6/dist-packages (from turicreate) (1.2.1)\n",
            "Requirement already satisfied: coremltools==2.1.0 in /usr/local/lib/python3.6/dist-packages (from turicreate) (2.1.0)\n",
            "Requirement already satisfied: mxnet<1.2.0,>=1.1.0 in /usr/local/lib/python3.6/dist-packages (from turicreate) (1.1.0.post0)\n",
            "Requirement already satisfied: numba>=0.32 in /usr/local/lib/python3.6/dist-packages (from resampy==0.2.1->turicreate) (0.40.1)\n",
            "Requirement already satisfied: olefile in /usr/local/lib/python3.6/dist-packages (from pillow>=3.3.0->turicreate) (0.46)\n",
            "Requirement already satisfied: idna<2.9,>=2.5 in /usr/local/lib/python3.6/dist-packages (from requests>=2.9.1->turicreate) (2.8)\n",
            "Requirement already satisfied: urllib3<1.25,>=1.21.1 in /usr/local/lib/python3.6/dist-packages (from requests>=2.9.1->turicreate) (1.24.2)\n",
            "Requirement already satisfied: chardet<3.1.0,>=3.0.2 in /usr/local/lib/python3.6/dist-packages (from requests>=2.9.1->turicreate) (3.0.4)\n",
            "Requirement already satisfied: certifi>=2017.4.17 in /usr/local/lib/python3.6/dist-packages (from requests>=2.9.1->turicreate) (2019.3.9)\n",
            "Requirement already satisfied: python-dateutil>=2.5.0 in /usr/local/lib/python3.6/dist-packages (from pandas>=0.19.0->turicreate) (2.5.3)\n",
            "Requirement already satisfied: pytz>=2011k in /usr/local/lib/python3.6/dist-packages (from pandas>=0.19.0->turicreate) (2018.9)\n",
            "Requirement already satisfied: protobuf>=3.1.0 in /usr/local/lib/python3.6/dist-packages (from coremltools==2.1.0->turicreate) (3.7.1)\n",
            "Requirement already satisfied: graphviz<0.9.0,>=0.8.1 in /usr/local/lib/python3.6/dist-packages (from mxnet<1.2.0,>=1.1.0->turicreate) (0.8.4)\n",
            "Requirement already satisfied: llvmlite>=0.25.0dev0 in /usr/local/lib/python3.6/dist-packages (from numba>=0.32->resampy==0.2.1->turicreate) (0.28.0)\n",
            "Requirement already satisfied: setuptools in /usr/local/lib/python3.6/dist-packages (from protobuf>=3.1.0->coremltools==2.1.0->turicreate) (41.0.1)\n"
          ],
          "name": "stdout"
        }
      ]
    },
    {
      "cell_type": "code",
      "metadata": {
        "id": "Ca3Zp2XKx56f",
        "colab_type": "code",
        "outputId": "035be88e-1276-41be-b143-c443dae8e085",
        "colab": {
          "base_uri": "https://localhost:8080/",
          "height": 34
        }
      },
      "source": [
        "from google.colab import drive\n",
        "drive.mount('/content/drive')"
      ],
      "execution_count": 0,
      "outputs": [
        {
          "output_type": "stream",
          "text": [
            "Drive already mounted at /content/drive; to attempt to forcibly remount, call drive.mount(\"/content/drive\", force_remount=True).\n"
          ],
          "name": "stdout"
        }
      ]
    },
    {
      "cell_type": "code",
      "metadata": {
        "id": "E0PTArvIydSG",
        "colab_type": "code",
        "colab": {}
      },
      "source": [
        "import turicreate as tc\n",
        "from turicreate import SArray\n",
        "import pandas as pd\n",
        "import os\n",
        "import sys"
      ],
      "execution_count": 0,
      "outputs": []
    },
    {
      "cell_type": "code",
      "metadata": {
        "id": "CJo7micAArE3",
        "colab_type": "code",
        "colab": {}
      },
      "source": [
        "source_folder = \"/content/drive/My Drive/pricetags-detection/turicreate/\""
      ],
      "execution_count": 0,
      "outputs": []
    },
    {
      "cell_type": "code",
      "metadata": {
        "id": "oFgj9bnx7ZBL",
        "colab_type": "code",
        "colab": {}
      },
      "source": [
        "csv = pd.read_csv(source_folder+\"annotations.csv\", sep=\",\")"
      ],
      "execution_count": 0,
      "outputs": []
    },
    {
      "cell_type": "code",
      "metadata": {
        "id": "0ywaADk7-CTY",
        "colab_type": "code",
        "colab": {}
      },
      "source": [
        "image_folder = source_folder + 'pricetags'"
      ],
      "execution_count": 0,
      "outputs": []
    },
    {
      "cell_type": "code",
      "metadata": {
        "id": "_q9zR0ldA97G",
        "colab_type": "code",
        "colab": {}
      },
      "source": [
        "data = tc.image_analysis.load_images(image_folder, with_path=True)"
      ],
      "execution_count": 0,
      "outputs": []
    },
    {
      "cell_type": "code",
      "metadata": {
        "id": "mwRy_fvjBX_c",
        "colab_type": "code",
        "colab": {}
      },
      "source": [
        "annotations = []\n",
        "for j, item in enumerate(data):\n",
        "    has_annotation = False\n",
        "    for i, row in csv.iterrows():\n",
        "        temp_path = str(row['path']).split('/')\n",
        "        csv_path = source_folder+('/'.join(temp_path[1:]))\n",
        "        if csv_path == item['path']:\n",
        "            annotations.append(eval(row['annotations']))\n",
        "            has_annotation = True\n",
        "            break\n",
        "    if not has_annotation:\n",
        "        annotations.append([])\n",
        "\n",
        "\n",
        "\n"
      ],
      "execution_count": 0,
      "outputs": []
    },
    {
      "cell_type": "code",
      "metadata": {
        "id": "2B7QsOgSDTQx",
        "colab_type": "code",
        "colab": {}
      },
      "source": [
        "data['annotations'] = SArray(data=annotations, dtype=list)"
      ],
      "execution_count": 0,
      "outputs": []
    },
    {
      "cell_type": "code",
      "metadata": {
        "id": "Zb4hTQr4B_np",
        "colab_type": "code",
        "outputId": "370e2917-cd89-4e60-8495-4e3794991138",
        "colab": {
          "base_uri": "https://localhost:8080/",
          "height": 449
        }
      },
      "source": [
        "data"
      ],
      "execution_count": 0,
      "outputs": [
        {
          "output_type": "execute_result",
          "data": {
            "text/html": [
              "<div style=\"max-height:1000px;max-width:1500px;overflow:auto;\"><table frame=\"box\" rules=\"cols\">\n",
              "    <tr>\n",
              "        <th style=\"padding-left: 1em; padding-right: 1em; text-align: center\">path</th>\n",
              "        <th style=\"padding-left: 1em; padding-right: 1em; text-align: center\">image</th>\n",
              "        <th style=\"padding-left: 1em; padding-right: 1em; text-align: center\">annotations</th>\n",
              "    </tr>\n",
              "    <tr>\n",
              "        <td style=\"padding-left: 1em; padding-right: 1em; text-align: center; vertical-align: top\">/content/drive/My<br>Drive/Colab ...</td>\n",
              "        <td style=\"padding-left: 1em; padding-right: 1em; text-align: center; vertical-align: top\">Height: 4032 Width: 3024</td>\n",
              "        <td style=\"padding-left: 1em; padding-right: 1em; text-align: center; vertical-align: top\">[{&#x27;label&#x27;: &#x27;price&#x27;,<br>&#x27;type&#x27;: &#x27;rectangle&#x27;, ...</td>\n",
              "    </tr>\n",
              "    <tr>\n",
              "        <td style=\"padding-left: 1em; padding-right: 1em; text-align: center; vertical-align: top\">/content/drive/My<br>Drive/Colab ...</td>\n",
              "        <td style=\"padding-left: 1em; padding-right: 1em; text-align: center; vertical-align: top\">Height: 4032 Width: 3024</td>\n",
              "        <td style=\"padding-left: 1em; padding-right: 1em; text-align: center; vertical-align: top\">[{&#x27;label&#x27;: &#x27;tag&#x27;, &#x27;type&#x27;:<br>&#x27;rectangle&#x27;, ...</td>\n",
              "    </tr>\n",
              "    <tr>\n",
              "        <td style=\"padding-left: 1em; padding-right: 1em; text-align: center; vertical-align: top\">/content/drive/My<br>Drive/Colab ...</td>\n",
              "        <td style=\"padding-left: 1em; padding-right: 1em; text-align: center; vertical-align: top\">Height: 4032 Width: 3024</td>\n",
              "        <td style=\"padding-left: 1em; padding-right: 1em; text-align: center; vertical-align: top\">[{&#x27;label&#x27;: &#x27;price&#x27;,<br>&#x27;type&#x27;: &#x27;rectangle&#x27;, ...</td>\n",
              "    </tr>\n",
              "    <tr>\n",
              "        <td style=\"padding-left: 1em; padding-right: 1em; text-align: center; vertical-align: top\">/content/drive/My<br>Drive/Colab ...</td>\n",
              "        <td style=\"padding-left: 1em; padding-right: 1em; text-align: center; vertical-align: top\">Height: 4032 Width: 3024</td>\n",
              "        <td style=\"padding-left: 1em; padding-right: 1em; text-align: center; vertical-align: top\">[{&#x27;label&#x27;: &#x27;price&#x27;,<br>&#x27;type&#x27;: &#x27;rectangle&#x27;, ...</td>\n",
              "    </tr>\n",
              "    <tr>\n",
              "        <td style=\"padding-left: 1em; padding-right: 1em; text-align: center; vertical-align: top\">/content/drive/My<br>Drive/Colab ...</td>\n",
              "        <td style=\"padding-left: 1em; padding-right: 1em; text-align: center; vertical-align: top\">Height: 4032 Width: 3024</td>\n",
              "        <td style=\"padding-left: 1em; padding-right: 1em; text-align: center; vertical-align: top\">[{&#x27;label&#x27;: &#x27;price&#x27;,<br>&#x27;type&#x27;: &#x27;rectangle&#x27;, ...</td>\n",
              "    </tr>\n",
              "    <tr>\n",
              "        <td style=\"padding-left: 1em; padding-right: 1em; text-align: center; vertical-align: top\">/content/drive/My<br>Drive/Colab ...</td>\n",
              "        <td style=\"padding-left: 1em; padding-right: 1em; text-align: center; vertical-align: top\">Height: 4032 Width: 3024</td>\n",
              "        <td style=\"padding-left: 1em; padding-right: 1em; text-align: center; vertical-align: top\">[{&#x27;label&#x27;: &#x27;name&#x27;,<br>&#x27;type&#x27;: &#x27;rectangle&#x27;, ...</td>\n",
              "    </tr>\n",
              "    <tr>\n",
              "        <td style=\"padding-left: 1em; padding-right: 1em; text-align: center; vertical-align: top\">/content/drive/My<br>Drive/Colab ...</td>\n",
              "        <td style=\"padding-left: 1em; padding-right: 1em; text-align: center; vertical-align: top\">Height: 4032 Width: 3024</td>\n",
              "        <td style=\"padding-left: 1em; padding-right: 1em; text-align: center; vertical-align: top\">[{&#x27;label&#x27;: &#x27;name&#x27;,<br>&#x27;type&#x27;: &#x27;rectangle&#x27;, ...</td>\n",
              "    </tr>\n",
              "    <tr>\n",
              "        <td style=\"padding-left: 1em; padding-right: 1em; text-align: center; vertical-align: top\">/content/drive/My<br>Drive/Colab ...</td>\n",
              "        <td style=\"padding-left: 1em; padding-right: 1em; text-align: center; vertical-align: top\">Height: 4032 Width: 3024</td>\n",
              "        <td style=\"padding-left: 1em; padding-right: 1em; text-align: center; vertical-align: top\">[{&#x27;label&#x27;: &#x27;name&#x27;,<br>&#x27;type&#x27;: &#x27;rectangle&#x27;, ...</td>\n",
              "    </tr>\n",
              "    <tr>\n",
              "        <td style=\"padding-left: 1em; padding-right: 1em; text-align: center; vertical-align: top\">/content/drive/My<br>Drive/Colab ...</td>\n",
              "        <td style=\"padding-left: 1em; padding-right: 1em; text-align: center; vertical-align: top\">Height: 4032 Width: 3024</td>\n",
              "        <td style=\"padding-left: 1em; padding-right: 1em; text-align: center; vertical-align: top\">[{&#x27;label&#x27;: &#x27;price&#x27;,<br>&#x27;type&#x27;: &#x27;rectangle&#x27;, ...</td>\n",
              "    </tr>\n",
              "    <tr>\n",
              "        <td style=\"padding-left: 1em; padding-right: 1em; text-align: center; vertical-align: top\">/content/drive/My<br>Drive/Colab ...</td>\n",
              "        <td style=\"padding-left: 1em; padding-right: 1em; text-align: center; vertical-align: top\">Height: 4032 Width: 3024</td>\n",
              "        <td style=\"padding-left: 1em; padding-right: 1em; text-align: center; vertical-align: top\">[{&#x27;label&#x27;: &#x27;price&#x27;,<br>&#x27;type&#x27;: &#x27;rectangle&#x27;, ...</td>\n",
              "    </tr>\n",
              "</table>\n",
              "[475 rows x 3 columns]<br/>Note: Only the head of the SFrame is printed.<br/>You can use print_rows(num_rows=m, num_columns=n) to print more rows and columns.\n",
              "</div>"
            ],
            "text/plain": [
              "Columns:\n",
              "\tpath\tstr\n",
              "\timage\tImage\n",
              "\tannotations\tlist\n",
              "\n",
              "Rows: 475\n",
              "\n",
              "Data:\n",
              "+-------------------------------+--------------------------+\n",
              "|              path             |          image           |\n",
              "+-------------------------------+--------------------------+\n",
              "| /content/drive/My Drive/Co... | Height: 4032 Width: 3024 |\n",
              "| /content/drive/My Drive/Co... | Height: 4032 Width: 3024 |\n",
              "| /content/drive/My Drive/Co... | Height: 4032 Width: 3024 |\n",
              "| /content/drive/My Drive/Co... | Height: 4032 Width: 3024 |\n",
              "| /content/drive/My Drive/Co... | Height: 4032 Width: 3024 |\n",
              "| /content/drive/My Drive/Co... | Height: 4032 Width: 3024 |\n",
              "| /content/drive/My Drive/Co... | Height: 4032 Width: 3024 |\n",
              "| /content/drive/My Drive/Co... | Height: 4032 Width: 3024 |\n",
              "| /content/drive/My Drive/Co... | Height: 4032 Width: 3024 |\n",
              "| /content/drive/My Drive/Co... | Height: 4032 Width: 3024 |\n",
              "+-------------------------------+--------------------------+\n",
              "+-------------------------------+\n",
              "|          annotations          |\n",
              "+-------------------------------+\n",
              "| [{'label': 'price', 'type'... |\n",
              "| [{'label': 'tag', 'type': ... |\n",
              "| [{'label': 'price', 'type'... |\n",
              "| [{'label': 'price', 'type'... |\n",
              "| [{'label': 'price', 'type'... |\n",
              "| [{'label': 'name', 'type':... |\n",
              "| [{'label': 'name', 'type':... |\n",
              "| [{'label': 'name', 'type':... |\n",
              "| [{'label': 'price', 'type'... |\n",
              "| [{'label': 'price', 'type'... |\n",
              "+-------------------------------+\n",
              "[475 rows x 3 columns]\n",
              "Note: Only the head of the SFrame is printed.\n",
              "You can use print_rows(num_rows=m, num_columns=n) to print more rows and columns."
            ]
          },
          "metadata": {
            "tags": []
          },
          "execution_count": 13
        }
      ]
    },
    {
      "cell_type": "code",
      "metadata": {
        "id": "-oVHCZ9KB_wU",
        "colab_type": "code",
        "colab": {}
      },
      "source": [
        "data.save(source_folder+'annotations.sframe')"
      ],
      "execution_count": 0,
      "outputs": []
    }
  ]
}